{
 "cells": [
  {
   "cell_type": "markdown",
   "source": [
    "# Tutorial"
   ],
   "metadata": {
    "collapsed": false
   }
  },
  {
   "cell_type": "markdown",
   "source": [
    "## Creating an array"
   ],
   "metadata": {
    "collapsed": false
   }
  },
  {
   "cell_type": "code",
   "execution_count": 1,
   "outputs": [],
   "source": [
    "import cat4py as cat\n",
    "\n",
    "a = cat.empty((10000, 10000), 8, dtype='f8', chunkshape=(1000, 1000), blockshape=(500, 200))"
   ],
   "metadata": {
    "collapsed": false,
    "pycharm": {
     "name": "#%%\n"
    }
   }
  },
  {
   "cell_type": "code",
   "execution_count": 2,
   "outputs": [
    {
     "name": "stdout",
     "output_type": "stream",
     "text": [
      "Type:               <class 'cat4py.ndtarray.NDTArray'>\n",
      "Itemsize:           8 bytes\n",
      "Storage:            Blosc\n",
      "Shape:              (10000, 10000)\n",
      "Chunkshape:         (1000, 1000)\n",
      "Blockshape:         (500, 200)\n",
      "\n"
     ]
    }
   ],
   "source": [
    "import numpy as np\n",
    "\n",
    "for (block, info) in a.iter_write():\n",
    "    block[:] = bytes(np.zeros(info.shape, dtype=\"f8\"))  # Use buffer interface?\n",
    "\n",
    "print(a.info)\n"
   ],
   "metadata": {
    "collapsed": false,
    "pycharm": {
     "name": "#%%\n"
    }
   }
  },
  {
   "cell_type": "markdown",
   "source": [
    "## Reading data"
   ],
   "metadata": {
    "collapsed": false,
    "pycharm": {
     "name": "#%% md\n"
    }
   }
  },
  {
   "cell_type": "markdown",
   "source": [
    "### Iterator"
   ],
   "metadata": {
    "collapsed": false,
    "pycharm": {
     "name": "#%% md\n"
    }
   }
  },
  {
   "cell_type": "code",
   "execution_count": 3,
   "outputs": [
    {
     "name": "stdout",
     "output_type": "stream",
     "text": [
      "Type:               <class 'cat4py.ndtarray.NDTArray'>\n",
      "Itemsize:           8 bytes\n",
      "Storage:            Plain buffer\n",
      "Shape:              (10000, 4000)\n",
      "Chunkshape:         None\n",
      "Blockshape:         None\n",
      "\n",
      "Type:               <class 'cat4py.ndtarray.NDTArray'>\n",
      "Itemsize:           8 bytes\n",
      "Storage:            Plain buffer\n",
      "Shape:              (10000, 4000)\n",
      "Chunkshape:         None\n",
      "Blockshape:         None\n",
      "\n",
      "Type:               <class 'cat4py.ndtarray.NDTArray'>\n",
      "Itemsize:           8 bytes\n",
      "Storage:            Plain buffer\n",
      "Shape:              (10000, 2000)\n",
      "Chunkshape:         None\n",
      "Blockshape:         None\n",
      "\n"
     ]
    }
   ],
   "source": [
    "itershape = (10000, 4000)\n",
    "\n",
    "for block, info in a.iter_read(itershape):\n",
    "\n",
    "    print(block.info)"
   ],
   "metadata": {
    "collapsed": false,
    "pycharm": {
     "name": "#%%\n"
    }
   }
  },
  {
   "cell_type": "markdown",
   "source": [
    "### Get item"
   ],
   "metadata": {
    "collapsed": false
   }
  },
  {
   "cell_type": "code",
   "execution_count": 4,
   "outputs": [
    {
     "name": "stdout",
     "output_type": "stream",
     "text": [
      "Type:               <class 'cat4py.ndtarray.NDTArray'>\n",
      "Itemsize:           8 bytes\n",
      "Storage:            Plain buffer\n",
      "Shape:              (2000, 2000)\n",
      "Chunkshape:         None\n",
      "Blockshape:         None\n",
      "\n"
     ]
    }
   ],
   "source": [
    "a2 = a[1500:3500, 2000:4000]\n",
    "print(a2.info)"
   ],
   "metadata": {
    "collapsed": false,
    "pycharm": {
     "name": "#%%\n"
    }
   }
  },
  {
   "cell_type": "markdown",
   "source": [
    "### General slicing"
   ],
   "metadata": {
    "collapsed": false
   }
  },
  {
   "cell_type": "code",
   "execution_count": 5,
   "outputs": [
    {
     "name": "stdout",
     "output_type": "stream",
     "text": [
      "Type:               <class 'cat4py.ndtarray.NDTArray'>\n",
      "Itemsize:           8 bytes\n",
      "Storage:            Blosc\n",
      "Shape:              (2000, 2000)\n",
      "Chunkshape:         (500, 500)\n",
      "Blockshape:         (200, 200)\n",
      "\n"
     ]
    }
   ],
   "source": [
    "slices = (slice(1500, 3500, None), slice(2000, 4000, None))\n",
    "a3 = a.slice(slices, chunkshape=(500, 500), blockshape=(200, 200))\n",
    "print(a3.info)"
   ],
   "metadata": {
    "collapsed": false,
    "pycharm": {
     "name": "#%%\n"
    }
   }
  },
  {
   "cell_type": "markdown",
   "source": [
    "## Persistency"
   ],
   "metadata": {
    "collapsed": false,
    "pycharm": {
     "name": "#%% md\n"
    }
   }
  },
  {
   "cell_type": "code",
   "execution_count": 6,
   "outputs": [],
   "source": [
    "a = cat.asarray(np.arange(1e6).reshape(1000, 1000),\n",
    "                chunkshape=(500, 250), blockshape=(200, 100),\n",
    "                filename=\"example.cat\")\n",
    "\n",
    "del a\n",
    "\n",
    "a1 = cat.from_file(\"example.cat\")\n"
   ],
   "metadata": {
    "collapsed": false,
    "pycharm": {
     "name": "#%%\n"
    }
   }
  },
  {
   "cell_type": "markdown",
   "source": [
    "## Serialization"
   ],
   "metadata": {
    "collapsed": false,
    "pycharm": {
     "name": "#%% md\n"
    }
   }
  },
  {
   "cell_type": "code",
   "execution_count": 7,
   "outputs": [
    {
     "name": "stdout",
     "output_type": "stream",
     "text": [
      "No serialized format: 0.00095s\n",
      "Serialized format: 0.00027s\n"
     ]
    }
   ],
   "source": [
    "from time import time\n",
    "\n",
    "a = cat.asarray(np.arange(1e7).reshape(2000, 5000),\n",
    "                chunkshape=(500, 1000), blockshape=(200, 300))\n",
    "\n",
    "t0 = time()\n",
    "sframe = a.to_sframe()\n",
    "t1 = time()\n",
    "\n",
    "print(f\"No serialized format: {(t1 - t0):.5f}s\")\n",
    "\n",
    "b = cat.asarray(np.arange(1e7).reshape(2000, 5000),\n",
    "                chunkshape=(500, 1000), blockshape=(200, 300),\n",
    "                enforceframe=True)\n",
    "\n",
    "t0 = time()\n",
    "sframe = b.to_sframe()\n",
    "t1 = time()\n",
    "\n",
    "print(f\"Serialized format: {(t1 - t0):.5f}s\")\n"
   ],
   "metadata": {
    "collapsed": false,
    "pycharm": {
     "name": "#%%\n"
    }
   }
  }
 ],
 "metadata": {
  "kernelspec": {
   "display_name": "Python 3",
   "language": "python",
   "name": "python3"
  },
  "language_info": {
   "codemirror_mode": {
    "name": "ipython",
    "version": 2
   },
   "file_extension": ".py",
   "mimetype": "text/x-python",
   "name": "python",
   "nbconvert_exporter": "python",
   "pygments_lexer": "ipython2",
   "version": "2.7.6"
  }
 },
 "nbformat": 4,
 "nbformat_minor": 0
}