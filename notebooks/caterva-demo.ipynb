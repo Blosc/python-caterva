{
 "cells": [
  {
   "cell_type": "markdown",
   "metadata": {},
   "source": [
    "# Caterva - PyData NYC 2019"
   ]
  },
  {
   "cell_type": "code",
   "execution_count": 1,
   "metadata": {},
   "outputs": [],
   "source": [
    "import os\n",
    "import cat4py as cat\n",
    "import numpy as np\n",
    "from time import time"
   ]
  },
  {
   "cell_type": "markdown",
   "metadata": {},
   "source": [
    "## NPArray"
   ]
  },
  {
   "cell_type": "code",
   "execution_count": 2,
   "metadata": {},
   "outputs": [],
   "source": [
    "shape = (3000, 3000)\n",
    "chunkshape = (1000, 1200)\n",
    "blockshape = (300, 25)\n",
    "dtype = 'f8'\n",
    "\n",
    "a = np.linspace(0, 1, np.prod(shape), dtype=dtype).reshape(shape)"
   ]
  },
  {
   "cell_type": "markdown",
   "metadata": {},
   "source": [
    "### Different ways to create a Caterva NPArray"
   ]
  },
  {
   "cell_type": "code",
   "execution_count": 3,
   "metadata": {},
   "outputs": [
    {
     "ename": "AttributeError",
     "evalue": "module 'cat4py' has no attribute 'from_numpy'",
     "output_type": "error",
     "traceback": [
      "\u001B[0;31m---------------------------------------------------------------------------\u001B[0m",
      "\u001B[0;31mAttributeError\u001B[0m                            Traceback (most recent call last)",
      "\u001B[0;32m<ipython-input-3-c82b6b2d6e6e>\u001B[0m in \u001B[0;36m<module>\u001B[0;34m\u001B[0m\n\u001B[0;32m----> 1\u001B[0;31m \u001B[0mb1\u001B[0m \u001B[0;34m=\u001B[0m \u001B[0mcat\u001B[0m\u001B[0;34m.\u001B[0m\u001B[0mfrom_numpy\u001B[0m\u001B[0;34m(\u001B[0m\u001B[0ma\u001B[0m\u001B[0;34m,\u001B[0m \u001B[0mchunkshape\u001B[0m\u001B[0;34m=\u001B[0m\u001B[0mchunkshape\u001B[0m\u001B[0;34m,\u001B[0m \u001B[0mblockshape\u001B[0m\u001B[0;34m=\u001B[0m\u001B[0mblockshape\u001B[0m\u001B[0;34m)\u001B[0m\u001B[0;34m\u001B[0m\u001B[0;34m\u001B[0m\u001B[0m\n\u001B[0m\u001B[1;32m      2\u001B[0m \u001B[0;34m\u001B[0m\u001B[0m\n",
      "\u001B[0;31mAttributeError\u001B[0m: module 'cat4py' has no attribute 'from_numpy'"
     ]
    }
   ],
   "source": [
    "b1 = cat.from_numpy(a, chunkshape=chunkshape, blockshape=blockshape)"
   ]
  },
  {
   "cell_type": "code",
   "execution_count": null,
   "metadata": {},
   "outputs": [],
   "source": [
    "b2 = cat.empty(shape, dtype=dtype, chunkshape=chunkshape, blockshape=blockshape)\n",
    "for block, info in b2.iter_write():\n",
    "    block[:] = a[info.slice]"
   ]
  },
  {
   "cell_type": "code",
   "execution_count": null,
   "metadata": {},
   "outputs": [],
   "source": [
    "b3 = cat.from_buffer(bytes(a), shape, dtype=dtype, chunkshape=chunkshape, blockshape=blockshape)"
   ]
  },
  {
   "cell_type": "markdown",
   "metadata": {},
   "source": [
    "### Read iterator over Caterva NPArray"
   ]
  },
  {
   "cell_type": "code",
   "execution_count": null,
   "metadata": {},
   "outputs": [],
   "source": [
    "for block, info in b3.iter_read():\n",
    "    np.testing.assert_allclose(block, a[info.slice])"
   ]
  },
  {
   "cell_type": "markdown",
   "metadata": {},
   "source": [
    "### Getting a slice from a Caterva NPArray"
   ]
  },
  {
   "cell_type": "code",
   "execution_count": null,
   "metadata": {},
   "outputs": [],
   "source": [
    "b2[3:40, 200:500]"
   ]
  },
  {
   "cell_type": "markdown",
   "metadata": {},
   "source": [
    "### Serialize Caterva NPArray"
   ]
  },
  {
   "cell_type": "code",
   "execution_count": null,
   "metadata": {},
   "outputs": [],
   "source": [
    "c1 = cat.from_numpy(a, chunkshape=chunkshape, blockshape=blockshape)\n",
    "\n",
    "t0 = time()\n",
    "sframe = c1.to_sframe()\n",
    "t1 = time()\n",
    "tnsf = t1 - t0\n",
    "\n",
    "print(f\"No serialized format: {tnsf:.4f}\")"
   ]
  },
  {
   "cell_type": "code",
   "execution_count": null,
   "metadata": {
    "scrolled": true,
    "pycharm": {
     "name": "#%%\n"
    }
   },
   "outputs": [],
   "source": [
    "c2 = cat.from_numpy(a, chunkshape=chunkshape, blockshape=blockshape, enforceframe=True)\n",
    "\n",
    "t0 = time()\n",
    "sframe = c2.to_sframe()\n",
    "t1 = time()\n",
    "tsf = t1 - t0\n",
    "\n",
    "print(f\"Serialized format: {tsf:.4f}\")"
   ]
  },
  {
   "cell_type": "code",
   "execution_count": null,
   "metadata": {},
   "outputs": [],
   "source": [
    "print(f\"Speed-up: {(tnsf / tsf):.4f}\")"
   ]
  },
  {
   "cell_type": "markdown",
   "metadata": {
    "pycharm": {
     "name": "#%% md\n"
    }
   },
   "source": [
    "### Persistency"
   ]
  },
  {
   "cell_type": "code",
   "execution_count": null,
   "metadata": {
    "pycharm": {
     "name": "#%%\n"
    }
   },
   "outputs": [],
   "source": [
    "if os.path.exists(\"caterva-demo.cat\"):\n",
    "    os.remove(\"caterva-demo.cat\")\n",
    "    \n",
    "d1 = cat.from_numpy(a, chunkshape=chunkshape, blockshape=blockshape, filename=\"caterva-demo.cat\")\n",
    "d2 = cat.from_file(\"caterva-demo.cat\")"
   ]
  }
 ],
 "metadata": {
  "kernelspec": {
   "display_name": "Python 3",
   "language": "python",
   "name": "python3"
  },
  "language_info": {
   "codemirror_mode": {
    "name": "ipython",
    "version": 3
   },
   "file_extension": ".py",
   "mimetype": "text/x-python",
   "name": "python",
   "nbconvert_exporter": "python",
   "pygments_lexer": "ipython3",
   "version": "3.8.3"
  }
 },
 "nbformat": 4,
 "nbformat_minor": 2
}
