{
 "cells": [
  {
   "cell_type": "markdown",
   "metadata": {},
   "source": [
    "# Caterva - PyData NYC 2019"
   ]
  },
  {
   "cell_type": "code",
   "execution_count": 1,
   "metadata": {},
   "outputs": [],
   "source": [
    "import os\n",
    "import cat4py as cat\n",
    "import numpy as np\n",
    "from time import time"
   ]
  },
  {
   "cell_type": "markdown",
   "metadata": {},
   "source": [
    "## NPArray"
   ]
  },
  {
   "cell_type": "code",
   "execution_count": 2,
   "metadata": {},
   "outputs": [],
   "source": [
    "shape = (3000, 3000)\n",
    "chunkshape = (1000, 1200)\n",
    "blockshape = (300, 25)\n",
    "dtype = 'f8'\n",
    "\n",
    "a = np.linspace(0, 1, np.prod(shape), dtype=dtype).reshape(shape)"
   ]
  },
  {
   "cell_type": "markdown",
   "metadata": {},
   "source": [
    "### Different ways to create a Caterva NPArray"
   ]
  },
  {
   "cell_type": "code",
   "execution_count": 3,
   "metadata": {},
   "outputs": [],
   "source": [
    "b1 = cat.from_numpy(a, chunkshape=chunkshape, blockshape=blockshape)"
   ]
  },
  {
   "cell_type": "code",
   "execution_count": 4,
   "metadata": {},
   "outputs": [],
   "source": [
    "b2 = cat.empty(shape, dtype=dtype, chunkshape=chunkshape, blockshape=blockshape)\n",
    "for block, info in b2.iter_write():\n",
    "    block[:] = a[info.slice]"
   ]
  },
  {
   "cell_type": "code",
   "execution_count": 5,
   "metadata": {},
   "outputs": [],
   "source": [
    "b3 = cat.from_buffer(bytes(a), shape, dtype=dtype, chunkshape=chunkshape, blockshape=blockshape)"
   ]
  },
  {
   "cell_type": "markdown",
   "metadata": {},
   "source": [
    "### Read iterator over Caterva NPArray"
   ]
  },
  {
   "cell_type": "code",
   "execution_count": 6,
   "metadata": {},
   "outputs": [],
   "source": [
    "for block, info in b3.iter_read():\n",
    "    np.testing.assert_allclose(block, a[info.slice])"
   ]
  },
  {
   "cell_type": "markdown",
   "metadata": {},
   "source": [
    "### Getting a slice from a Caterva NPArray"
   ]
  },
  {
   "cell_type": "code",
   "execution_count": 7,
   "metadata": {},
   "outputs": [
    {
     "data": {
      "text/plain": [
       "array([[0.00102222, 0.00102233, 0.00102244, ..., 0.00105522, 0.00105533,\n",
       "        0.00105544],\n",
       "       [0.00135556, 0.00135567, 0.00135578, ..., 0.00138856, 0.00138867,\n",
       "        0.00138878],\n",
       "       [0.00168889, 0.001689  , 0.00168911, ..., 0.00172189, 0.001722  ,\n",
       "        0.00172211],\n",
       "       ...,\n",
       "       [0.01235556, 0.01235567, 0.01235578, ..., 0.01238856, 0.01238867,\n",
       "        0.01238878],\n",
       "       [0.01268889, 0.012689  , 0.01268911, ..., 0.01272189, 0.012722  ,\n",
       "        0.01272211],\n",
       "       [0.01302222, 0.01302233, 0.01302245, ..., 0.01305522, 0.01305533,\n",
       "        0.01305545]])"
      ]
     },
     "execution_count": 7,
     "metadata": {},
     "output_type": "execute_result"
    }
   ],
   "source": [
    "b2[3:40, 200:500]"
   ]
  },
  {
   "cell_type": "markdown",
   "metadata": {},
   "source": [
    "### Serialize Caterva NPArray"
   ]
  },
  {
   "cell_type": "code",
   "execution_count": 8,
   "metadata": {},
   "outputs": [
    {
     "name": "stdout",
     "output_type": "stream",
     "text": [
      "No serialized format: 0.0474\n"
     ]
    }
   ],
   "source": [
    "c1 = cat.from_numpy(a, chunkshape=chunkshape, blockshape=blockshape)\n",
    "\n",
    "t0 = time()\n",
    "sframe = c1.to_sframe()\n",
    "t1 = time()\n",
    "tnsf = t1 - t0\n",
    "\n",
    "print(f\"No serialized format: {tnsf:.4f}\")"
   ]
  },
  {
   "cell_type": "code",
   "execution_count": 9,
   "metadata": {
    "scrolled": true,
    "pycharm": {
     "name": "#%%\n"
    }
   },
   "outputs": [
    {
     "name": "stdout",
     "output_type": "stream",
     "text": [
      "Serialized format: 0.0017\n"
     ]
    }
   ],
   "source": [
    "c2 = cat.from_numpy(a, chunkshape=chunkshape, blockshape=blockshape, enforceframe=True)\n",
    "\n",
    "t0 = time()\n",
    "sframe = c2.to_sframe()\n",
    "t1 = time()\n",
    "tsf = t1 - t0\n",
    "\n",
    "print(f\"Serialized format: {tsf:.4f}\")"
   ]
  },
  {
   "cell_type": "code",
   "execution_count": 10,
   "metadata": {},
   "outputs": [
    {
     "name": "stdout",
     "output_type": "stream",
     "text": [
      "Speed-up: 27.9118\n"
     ]
    }
   ],
   "source": [
    "print(f\"Speed-up: {(tnsf / tsf):.4f}\")"
   ]
  },
  {
   "cell_type": "markdown",
   "metadata": {
    "pycharm": {
     "name": "#%% md\n"
    }
   },
   "source": [
    "### Persistency"
   ]
  },
  {
   "cell_type": "code",
   "execution_count": 11,
   "metadata": {
    "pycharm": {
     "name": "#%%\n"
    }
   },
   "outputs": [],
   "source": [
    "if os.path.exists(\"caterva-demo.cat\"):\n",
    "    os.remove(\"caterva-demo.cat\")\n",
    "    \n",
    "d1 = cat.from_numpy(a, chunkshape=chunkshape, blockshape=blockshape, filename=\"caterva-demo.cat\")\n",
    "d2 = cat.from_file(\"caterva-demo.cat\")"
   ]
  }
 ],
 "metadata": {
  "kernelspec": {
   "display_name": "Python 3",
   "language": "python",
   "name": "python3"
  },
  "language_info": {
   "codemirror_mode": {
    "name": "ipython",
    "version": 3
   },
   "file_extension": ".py",
   "mimetype": "text/x-python",
   "name": "python",
   "nbconvert_exporter": "python",
   "pygments_lexer": "ipython3",
   "version": "3.8.3"
  }
 },
 "nbformat": 4,
 "nbformat_minor": 2
}